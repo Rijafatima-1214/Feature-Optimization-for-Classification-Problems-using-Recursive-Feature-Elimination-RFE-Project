{
  "nbformat": 4,
  "nbformat_minor": 0,
  "metadata": {
    "colab": {
      "provenance": []
    },
    "kernelspec": {
      "name": "python3",
      "display_name": "Python 3"
    },
    "language_info": {
      "name": "python"
    }
  },
  "cells": [
    {
      "cell_type": "code",
      "execution_count": null,
      "metadata": {
        "colab": {
          "base_uri": "https://localhost:8080/"
        },
        "id": "l_DCh_oF3zh2",
        "outputId": "20b09071-2906-4c11-83be-f9c6e9e27966"
      },
      "outputs": [
        {
          "output_type": "stream",
          "name": "stdout",
          "text": [
            "Baseline Model (All Features):\n",
            "Accuracy: 0.8100558659217877\n",
            "Precision: 0.7857142857142857\n",
            "Recall: 0.7432432432432432\n",
            "F1 Score: 0.7638888888888888\n",
            "\n",
            "Optimized Model (RFE Features):\n",
            "Accuracy: 0.8044692737430168\n",
            "Precision: 0.7746478873239436\n",
            "Recall: 0.7432432432432432\n",
            "F1 Score: 0.7586206896551724\n",
            "\n",
            "Selected Features by RFE: ['Pclass', 'Age', 'SibSp', 'Sex_male', 'Embarked_S']\n"
          ]
        },
        {
          "output_type": "stream",
          "name": "stderr",
          "text": [
            "/tmp/ipython-input-999105068.py:20: FutureWarning: A value is trying to be set on a copy of a DataFrame or Series through chained assignment using an inplace method.\n",
            "The behavior will change in pandas 3.0. This inplace method will never work because the intermediate object on which we are setting values always behaves as a copy.\n",
            "\n",
            "For example, when doing 'df[col].method(value, inplace=True)', try using 'df.method({col: value}, inplace=True)' or df[col] = df[col].method(value) instead, to perform the operation inplace on the original object.\n",
            "\n",
            "\n",
            "  data[\"Age\"].fillna(data[\"Age\"].median(), inplace=True)\n",
            "/tmp/ipython-input-999105068.py:21: FutureWarning: A value is trying to be set on a copy of a DataFrame or Series through chained assignment using an inplace method.\n",
            "The behavior will change in pandas 3.0. This inplace method will never work because the intermediate object on which we are setting values always behaves as a copy.\n",
            "\n",
            "For example, when doing 'df[col].method(value, inplace=True)', try using 'df.method({col: value}, inplace=True)' or df[col] = df[col].method(value) instead, to perform the operation inplace on the original object.\n",
            "\n",
            "\n",
            "  data[\"Embarked\"].fillna(data[\"Embarked\"].mode()[0], inplace=True)\n"
          ]
        }
      ],
      "source": [
        "#Project Title: Feature Optimization for Classification Problems using Recursive Feature Elimination (RFE)\n",
        "\n",
        "# --- Import libraries ---\n",
        "import pandas as pd\n",
        "import numpy as np\n",
        "from sklearn.model_selection import train_test_split\n",
        "from sklearn.preprocessing import StandardScaler\n",
        "from sklearn.linear_model import LogisticRegression\n",
        "from sklearn.feature_selection import RFE\n",
        "from sklearn.metrics import accuracy_score, precision_score, recall_score, f1_score\n",
        "\n",
        "# --- Step 1: Load dataset ---\n",
        "data = pd.read_csv(\"/content/titanic.csv\")   # make sure Titanic dataset is in same folder\n",
        "\n",
        "# --- Step 2: Data preprocessing ---\n",
        "# Drop irrelevant columns\n",
        "data = data.drop(columns=[\"PassengerId\", \"Name\", \"Ticket\", \"Cabin\"])\n",
        "\n",
        "# Fill missing values\n",
        "data[\"Age\"].fillna(data[\"Age\"].median(), inplace=True)\n",
        "data[\"Embarked\"].fillna(data[\"Embarked\"].mode()[0], inplace=True)\n",
        "\n",
        "# Convert categorical variables into dummy variables\n",
        "data = pd.get_dummies(data, drop_first=True)\n",
        "\n",
        "# --- Step 3: Split into features and target ---\n",
        "X = data.drop(\"Survived\", axis=1)\n",
        "y = data[\"Survived\"]\n",
        "\n",
        "# Train-test split\n",
        "X_train, X_test, y_train, y_test = train_test_split(X, y, test_size=0.2, random_state=42)\n",
        "\n",
        "# Standardize numerical features\n",
        "scaler = StandardScaler()\n",
        "X_train = scaler.fit_transform(X_train)\n",
        "X_test = scaler.transform(X_test)\n",
        "\n",
        "# --- Step 4: Baseline Model (all features) ---\n",
        "baseline_model = LogisticRegression(max_iter=1000)\n",
        "baseline_model.fit(X_train, y_train)\n",
        "y_pred_baseline = baseline_model.predict(X_test)\n",
        "\n",
        "# --- Step 5: RFE for feature selection ---\n",
        "estimator = LogisticRegression(max_iter=1000)\n",
        "rfe = RFE(estimator, n_features_to_select=5)   # choose top 5 features\n",
        "rfe.fit(X_train, y_train)\n",
        "\n",
        "# Transform dataset to selected features\n",
        "X_train_rfe = rfe.transform(X_train)\n",
        "X_test_rfe = rfe.transform(X_test)\n",
        "\n",
        "# --- Step 6: Optimized Model (RFE features only) ---\n",
        "optimized_model = LogisticRegression(max_iter=1000)\n",
        "optimized_model.fit(X_train_rfe, y_train)\n",
        "y_pred_optimized = optimized_model.predict(X_test_rfe)\n",
        "\n",
        "# --- Step 7: Compare Results ---\n",
        "print(\"Baseline Model (All Features):\")\n",
        "print(\"Accuracy:\", accuracy_score(y_test, y_pred_baseline))\n",
        "print(\"Precision:\", precision_score(y_test, y_pred_baseline))\n",
        "print(\"Recall:\", recall_score(y_test, y_pred_baseline))\n",
        "print(\"F1 Score:\", f1_score(y_test, y_pred_baseline))\n",
        "\n",
        "print(\"\\nOptimized Model (RFE Features):\")\n",
        "print(\"Accuracy:\", accuracy_score(y_test, y_pred_optimized))\n",
        "print(\"Precision:\", precision_score(y_test, y_pred_optimized))\n",
        "print(\"Recall:\", recall_score(y_test, y_pred_optimized))\n",
        "print(\"F1 Score:\", f1_score(y_test, y_pred_optimized))\n",
        "\n",
        "# --- Step 8: Print selected features ---\n",
        "selected_features = X.columns[rfe.support_]\n",
        "print(\"\\nSelected Features by RFE:\", selected_features.tolist())\n"
      ]
    },
    {
      "cell_type": "code",
      "source": [],
      "metadata": {
        "id": "rSEv1HN24W28"
      },
      "execution_count": null,
      "outputs": []
    }
  ]
}